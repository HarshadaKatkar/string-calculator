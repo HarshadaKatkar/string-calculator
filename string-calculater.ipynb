{
 "cells": [
  {
   "cell_type": "code",
   "execution_count": 8,
   "id": "f58526a6",
   "metadata": {},
   "outputs": [
    {
     "name": "stdout",
     "output_type": "stream",
     "text": [
      "0\n",
      "1\n",
      "6\n",
      "6\n",
      "6\n",
      "3\n"
     ]
    },
    {
     "ename": "ValueError",
     "evalue": "Negative numbers not allowed: [-1, -5]",
     "output_type": "error",
     "traceback": [
      "\u001b[1;31m---------------------------------------------------------------------------\u001b[0m",
      "\u001b[1;31mValueError\u001b[0m                                Traceback (most recent call last)",
      "\u001b[1;32m~\\AppData\\Local\\Temp/ipykernel_6152/4275306392.py\u001b[0m in \u001b[0;36m<module>\u001b[1;34m\u001b[0m\n\u001b[0;32m     35\u001b[0m \u001b[0mprint\u001b[0m\u001b[1;33m(\u001b[0m\u001b[0mcalculator\u001b[0m\u001b[1;33m.\u001b[0m\u001b[0madd\u001b[0m\u001b[1;33m(\u001b[0m\u001b[1;34m\"1\\n2,3\"\u001b[0m\u001b[1;33m)\u001b[0m\u001b[1;33m)\u001b[0m  \u001b[1;31m#Step 3:- Allow the add method to handle new lines between numbers (instead of commas). (\"1\\n2,3\" should return 6)\u001b[0m\u001b[1;33m\u001b[0m\u001b[1;33m\u001b[0m\u001b[0m\n\u001b[0;32m     36\u001b[0m \u001b[0mprint\u001b[0m\u001b[1;33m(\u001b[0m\u001b[0mcalculator\u001b[0m\u001b[1;33m.\u001b[0m\u001b[0madd\u001b[0m\u001b[1;33m(\u001b[0m\u001b[1;34m\"//;\\n1;2\"\u001b[0m\u001b[1;33m)\u001b[0m\u001b[1;33m)\u001b[0m \u001b[1;31m#Step 4:- Support different delimiters\u001b[0m\u001b[1;33m\u001b[0m\u001b[1;33m\u001b[0m\u001b[0m\n\u001b[1;32m---> 37\u001b[1;33m \u001b[0mprint\u001b[0m\u001b[1;33m(\u001b[0m\u001b[0mcalculator\u001b[0m\u001b[1;33m.\u001b[0m\u001b[0madd\u001b[0m\u001b[1;33m(\u001b[0m\u001b[1;34m\"-1,-5,6\"\u001b[0m\u001b[1;33m)\u001b[0m\u001b[1;33m)\u001b[0m  \u001b[1;31m#Step 5:- Calling add with a negative number will throw an exception: \"negative numbers not allowed <negative_number>\"\u001b[0m\u001b[1;33m\u001b[0m\u001b[1;33m\u001b[0m\u001b[0m\n\u001b[0m",
      "\u001b[1;32m~\\AppData\\Local\\Temp/ipykernel_6152/4275306392.py\u001b[0m in \u001b[0;36madd\u001b[1;34m(self, numbers)\u001b[0m\n\u001b[0;32m     24\u001b[0m \u001b[1;33m\u001b[0m\u001b[0m\n\u001b[0;32m     25\u001b[0m         \u001b[1;32mif\u001b[0m \u001b[0mnegatives\u001b[0m\u001b[1;33m:\u001b[0m\u001b[1;33m\u001b[0m\u001b[1;33m\u001b[0m\u001b[0m\n\u001b[1;32m---> 26\u001b[1;33m             \u001b[1;32mraise\u001b[0m \u001b[0mValueError\u001b[0m\u001b[1;33m(\u001b[0m\u001b[1;34mf\"Negative numbers not allowed: {negatives}\"\u001b[0m\u001b[1;33m)\u001b[0m\u001b[1;33m\u001b[0m\u001b[1;33m\u001b[0m\u001b[0m\n\u001b[0m\u001b[0;32m     27\u001b[0m \u001b[1;33m\u001b[0m\u001b[0m\n\u001b[0;32m     28\u001b[0m         \u001b[1;32mreturn\u001b[0m \u001b[0mtotal\u001b[0m\u001b[1;33m\u001b[0m\u001b[1;33m\u001b[0m\u001b[0m\n",
      "\u001b[1;31mValueError\u001b[0m: Negative numbers not allowed: [-1, -5]"
     ]
    }
   ],
   "source": [
    "class StringCalculator:\n",
    "    def add(self, numbers: str) -> int:\n",
    "\n",
    "        if not numbers:\n",
    "            return 0\n",
    "\n",
    "        delimiter = ','\n",
    "        if numbers.startswith('//'):\n",
    "            parts = numbers.split('\\n', 1)\n",
    "            delimiter = parts[0][2:]\n",
    "            numbers = parts[1]\n",
    "\n",
    "        numbers = numbers.replace('\\n', delimiter)\n",
    "        num_list = numbers.split(delimiter)\n",
    "\n",
    "        total = 0\n",
    "        negatives = []\n",
    "        for num in num_list:\n",
    "            if num.strip():\n",
    "                value = int(num)\n",
    "                if value < 0:\n",
    "                    negatives.append(value)\n",
    "                total += value\n",
    "\n",
    "        if negatives:\n",
    "            raise ValueError(f\"Negative numbers not allowed: {negatives}\")\n",
    "\n",
    "        return total\n",
    "\n",
    "calculator = StringCalculator()\n",
    "print(calculator.add(\"\")) # Step 1\n",
    "print(calculator.add(\"1\")) \n",
    "print(calculator.add(\"1,5\")) \n",
    "print(calculator.add(\"1,2,3\"))  #Step 2:- Allow the add method to handle any amount of numbers.\n",
    "print(calculator.add(\"1\\n2,3\"))  #Step 3:- Allow the add method to handle new lines between numbers (instead of commas). (\"1\\n2,3\" should return 6)\n",
    "print(calculator.add(\"//;\\n1;2\")) #Step 4:- Support different delimiters\n",
    "print(calculator.add(\"-1,-5,6\"))  #Step 5:- Calling add with a negative number will throw an exception: \"negative numbers not allowed <negative_number>\""
   ]
  },
  {
   "cell_type": "code",
   "execution_count": null,
   "id": "c8e42d2d",
   "metadata": {},
   "outputs": [],
   "source": []
  },
  {
   "cell_type": "code",
   "execution_count": null,
   "id": "dfbca999",
   "metadata": {},
   "outputs": [],
   "source": []
  }
 ],
 "metadata": {
  "kernelspec": {
   "display_name": "Python 3 (ipykernel)",
   "language": "python",
   "name": "python3"
  },
  "language_info": {
   "codemirror_mode": {
    "name": "ipython",
    "version": 3
   },
   "file_extension": ".py",
   "mimetype": "text/x-python",
   "name": "python",
   "nbconvert_exporter": "python",
   "pygments_lexer": "ipython3",
   "version": "3.7.11"
  }
 },
 "nbformat": 4,
 "nbformat_minor": 5
}
